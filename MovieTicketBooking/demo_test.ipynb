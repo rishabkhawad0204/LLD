{
 "cells": [
  {
   "cell_type": "code",
   "execution_count": 1,
   "metadata": {},
   "outputs": [],
   "source": [
    "from MovieBookingSystem import MovieBookingSystem\n",
    "from Person.admin import admin\n",
    "from movie import movie\n",
    "from enums import genreType\n",
    "from Person.user import user\n",
    "bms = MovieBookingSystem()\n",
    "ceo= admin(bms,\"raghav\",\"abc\",1)\n",
    "\n",
    "ceo.add_city(\"c1\",\"mumbai\",\"mh\")\n",
    "\n",
    "ceo.add_theatre(\"t1\",\"c1\",\"pvr\",\"12345\")\n",
    "ceo.add_theatre(\"t2\",\"c1\",\"inox\",\"2134\")\n",
    "ceo.add_theatre(\"t3\",\"c1\",\"cinepolis\",\"5325\")\n",
    "\n",
    "ceo.add_hall(\"t1\",\"c1\",\"A1\",10,10,3)\n",
    "ceo.add_hall(\"t1\",\"c1\",\"A2\",10,10,3)\n",
    "\n",
    "ceo.add_hall(\"t2\",\"c1\",\"A1\",10,10,3)\n",
    "ceo.add_hall(\"t2\",\"c1\",\"A2\",10,10,3)\n",
    "\n",
    "ceo.add_hall(\"t3\",\"c1\",\"A1\",10,10,3)\n",
    "ceo.add_hall(\"t3\",\"c1\",\"A2\",10,10,3)\n",
    "\n",
    "movie1 = movie(\"m1\",\"yjhd\",genreType.Romantic,200)\n",
    "movie2 = movie(\"m2\",\"pathan\",genreType.Action,180)\n",
    "movie1 = movie(\"m3\",\"raone\",genreType.SciFi,150)\n",
    "\n",
    "ceo.add_show(\"sh1\",\"m1\",\"17:00\",\"t1\",\"c1\",\"A2\",300,200)\n",
    "ceo.add_show(\"sh2\",\"m1\",\"17:00\",\"t2\",\"c1\",\"A1\",300,200)\n",
    "ceo.add_show(\"sh3\",\"m1\",\"18:00\",\"t3\",\"c1\",\"A2\",300,200)\n",
    "ceo.add_show(\"sh4\",\"m1\",\"20:00\",\"t2\",\"c1\",\"A2\",300,200)\n",
    "\n",
    "ceo.add_show(\"sh5\",\"m2\",\"17:00\",\"t1\",\"c1\",\"A1\",300,200)\n",
    "ceo.add_show(\"sh6\",\"m2\",\"17:00\",\"t2\",\"c1\",\"A1\",200,100)\n",
    "ceo.add_show(\"sh7\",\"m2\",\"18:00\",\"t3\",\"c1\",\"A2\",200,100)\n",
    "\n",
    "user1 = user(\"u1\",\"rishab\",\"gmail\")"
   ]
  },
  {
   "cell_type": "code",
   "execution_count": 4,
   "metadata": {},
   "outputs": [
    {
     "data": {
      "text/plain": [
       "[('t1', [<show.show at 0x10344adf0>]),\n",
       " ('t2', [<show.show at 0x10344ab50>, <show.show at 0x103465040>]),\n",
       " ('t3', [<show.show at 0x10344a520>])]"
      ]
     },
     "execution_count": 4,
     "metadata": {},
     "output_type": "execute_result"
    }
   ],
   "source": [
    "list_of_shows = bms.get_all_shows(\"c1\",\"m1\")\n",
    "list_of_shows"
   ]
  },
  {
   "cell_type": "code",
   "execution_count": 3,
   "metadata": {},
   "outputs": [
    {
     "name": "stdout",
     "output_type": "stream",
     "text": [
      "found matching show in theatre - cinepolis , hall - A2\n",
      "all seats available ......\n",
      "rishab made payment of amount 400\n",
      "rishab - cinepolis - A2 - ['7-6', '8-3']\n"
     ]
    }
   ],
   "source": [
    "\n",
    "for t,tl in list_of_shows:\n",
    "    for s in tl:\n",
    "        if s.start_time ==\"18:00\":\n",
    "            print(f\"found matching show in theatre - {s.theater_name} , hall - {s.hall_name}\")\n",
    "            ticket = bms.make_booking(user1,s,[\"7-6\",\"8-3\"])\n",
    "            ticket.print_ticket()"
   ]
  },
  {
   "cell_type": "code",
   "execution_count": null,
   "metadata": {},
   "outputs": [],
   "source": [
    "user1.bookings"
   ]
  },
  {
   "cell_type": "code",
   "execution_count": null,
   "metadata": {},
   "outputs": [],
   "source": []
  }
 ],
 "metadata": {
  "kernelspec": {
   "display_name": "Python 3",
   "language": "python",
   "name": "python3"
  },
  "language_info": {
   "codemirror_mode": {
    "name": "ipython",
    "version": 3
   },
   "file_extension": ".py",
   "mimetype": "text/x-python",
   "name": "python",
   "nbconvert_exporter": "python",
   "pygments_lexer": "ipython3",
   "version": "3.9.6"
  },
  "orig_nbformat": 4
 },
 "nbformat": 4,
 "nbformat_minor": 2
}
